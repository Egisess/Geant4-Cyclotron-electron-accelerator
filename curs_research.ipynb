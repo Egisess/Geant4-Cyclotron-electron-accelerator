{
  "cells": [
    {
      "cell_type": "code",
      "execution_count": null,
      "metadata": {
        "id": "pPRFV0q9U4GA"
      },
      "outputs": [],
      "source": [
        "import pandas as pd\n",
        "import matplotlib.pyplot as plt\n",
        "import seaborn as sns\n",
        "import numpy as np\n",
        "import os\n",
        "from matplotlib.patches import Rectangle\n",
        "import warnings\n",
        "warnings.filterwarnings('ignore')"
      ]
    },
    {
      "cell_type": "markdown",
      "metadata": {
        "id": "0pmJwzRhXC95"
      },
      "source": [
        "Считываем полученные данные - в обоих случаях генерировалось $10^8$ частиц"
      ]
    },
    {
      "cell_type": "code",
      "execution_count": null,
      "metadata": {
        "colab": {
          "base_uri": "https://localhost:8080/"
        },
        "id": "OKtvVKX7WJOi",
        "outputId": "4f8a8929-5f30-4a8f-d21b-d434eb8d2f0d"
      },
      "outputs": [],
      "source": [
        "base_dir = os.getcwd()\n",
        "\n",
        "kev250 = pd.read_csv('output_files/250_kev_output_big.txt', sep=\" \", header=None)\n",
        "kev250.columns = ['trackNum', 'x', 'y', 'z', 'kinEn', 'IsFirstStepInVolume', 'particleName', 'volumeName', 'dose']\n",
        "kev250.info()"
      ]
    },
    {
      "cell_type": "code",
      "execution_count": null,
      "metadata": {
        "colab": {
          "base_uri": "https://localhost:8080/"
        },
        "id": "Invonw-5WQuL",
        "outputId": "d6a41124-213b-4b29-b382-25d6259fb3d4"
      },
      "outputs": [],
      "source": [
        "kev300 = pd.read_csv('output_files/300kev_output_big.txt', sep=\" \", header=None)\n",
        "kev300.columns = ['trackNum', 'x', 'y', 'z', 'kinEn', 'IsFirstStepInVolume', 'particleName', 'volumeName', 'dose']\n",
        "kev300.info()"
      ]
    },
    {
      "cell_type": "markdown",
      "metadata": {
        "id": "NAsrPikSWkTT"
      },
      "source": [
        " Переносим систему отсчёта в центр мишени, оставляем только Гамма-кванты которые сделали первый шаг в объёме детектора"
      ]
    },
    {
      "cell_type": "code",
      "execution_count": null,
      "metadata": {
        "colab": {
          "base_uri": "https://localhost:8080/"
        },
        "id": "lumqNnNUWaUI",
        "outputId": "42dc1548-107b-4696-e0f6-0b9b97ee0dcb"
      },
      "outputs": [],
      "source": [
        "kev250['z'] = kev250['z'] - 80\n",
        "kev250 = kev250[(kev250['IsFirstStepInVolume'] == 1) & (kev250['particleName'] == 'gamma')]\n",
        "kev250.count()"
      ]
    },
    {
      "cell_type": "code",
      "execution_count": null,
      "metadata": {
        "colab": {
          "base_uri": "https://localhost:8080/"
        },
        "id": "xWuFCS_xXaIW",
        "outputId": "d4fcc402-5ccb-4dfb-f17b-70f8c1c14726"
      },
      "outputs": [],
      "source": [
        "kev300['z'] = kev300['z'] - 80\n",
        "kev300 = kev300[(kev300['IsFirstStepInVolume'] == 1) & (kev300['particleName'] == 'gamma')]\n",
        "kev300.count()"
      ]
    },
    {
      "cell_type": "markdown",
      "metadata": {},
      "source": [
        "# Разделение таблиц по мишеням"
      ]
    },
    {
      "cell_type": "code",
      "execution_count": null,
      "metadata": {},
      "outputs": [],
      "source": [
        "kev250_0 = kev250[kev250.volumeName == 'ScoringVolume']\n",
        "kev250_1 = kev250[kev250.volumeName == 'ScoringPan07']\n",
        "kev250_2 = kev250[kev250.volumeName == 'ScoringPan10']\n",
        "\n",
        "kev300_0 = kev300[kev300.volumeName == 'ScoringVolume']\n",
        "kev300_1 = kev300[kev300.volumeName == 'ScoringPan07']\n",
        "kev300_2 = kev300[kev300.volumeName == 'ScoringPan10']"
      ]
    },
    {
      "cell_type": "code",
      "execution_count": null,
      "metadata": {},
      "outputs": [],
      "source": [
        "lsm = np.polyfit(x=kev300_0.dose.index, y=kev300_0.dose.values, deg=1)\n",
        "\n",
        "plt.figure(figsize=(16, 9))\n",
        "sns.lineplot(kev250_0.dose, label = '250 кэВ')\n",
        "sns.lineplot(kev300_0.dose, label = '300 кэВ')\n",
        "sns.lineplot(x=kev300_0.dose.index, y = (lsm[0] * kev300_0.dose.index + lsm[1]), label = f'МНК: k = {lsm[0]:.1e}, b = {lsm[1]:.1e}')\n",
        "plt.title('Доза в Греях - детектор на выходе из мишени')\n",
        "plt.xlabel('Количество гамма-квантов вышедших из мишени')\n",
        "plt.tight_layout()\n",
        "plt.ylabel('Доза облучения (Грей)')\n",
        "plt.grid()\n",
        "plt.show()\n",
        "\n",
        "kev250_0.dose.index.max()\n",
        "# 1.6 * 10^(-10) - время, 1043068 - кол-во квантов на выходе - 515.014 грей за секунду - 300 кэВ\n",
        "# 1.6 * 10^(-10) - время, 509633 - кол-во квантов на выходе - 251.631 грей за секунду - 250 кэВ"
      ]
    },
    {
      "cell_type": "code",
      "execution_count": null,
      "metadata": {},
      "outputs": [],
      "source": [
        "lsm = np.polyfit(x=kev300_1.dose.index, y=kev300_1.dose.values, deg=1)\n",
        "\n",
        "plt.figure(figsize=(16, 9))\n",
        "sns.lineplot(kev250_1.dose, label = '250 кэВ')\n",
        "sns.lineplot(kev300_1.dose, label = '300 кэВ')\n",
        "sns.lineplot(x=kev300_1.dose.index, y = (lsm[0] * kev300_1.dose.index + lsm[1]), label = f'МНК: k = {lsm[0]:.1e}, b = {lsm[1]:.1e}')\n",
        "plt.title('Доза в Греях - детектор на расстоянии 0.7 метр от мишени')\n",
        "plt.xlabel('Количество гамма-квантов вышедших из мишени')\n",
        "plt.ylabel('Доза облучения (Грей)')\n",
        "plt.tight_layout()\n",
        "plt.grid()\n",
        "plt.show()\n",
        "\n",
        "# 1.6 * 10^(-10) - время, 1043068 - кол-во квантов на выходе - 0.0372 грей за секунду - 300 кэВ\n",
        "# 1.6 * 10^(-10) - время, 509633 - кол-во квантов на выходе - 0.0182 грей за секунду - 250 кэВ"
      ]
    },
    {
      "cell_type": "code",
      "execution_count": null,
      "metadata": {},
      "outputs": [],
      "source": [
        "lsm = np.polyfit(x=kev300_2.dose.index, y=kev300_2.dose.values, deg=1)\n",
        "\n",
        "\n",
        "plt.figure(figsize=(16, 9))\n",
        "sns.lineplot(kev250_2.dose, label = '250 кэВ')\n",
        "sns.lineplot(kev300_2.dose, label = '300 кэВ')\n",
        "sns.lineplot(x=kev300_2.dose.index, \n",
        "            y = (lsm[0] * kev300_2.dose.index + lsm[1]), \n",
        "            label = f'МНК: k = {lsm[0]:.1e}, b = {lsm[1]:.1e}')\n",
        "\n",
        "plt.title('Доза в Греях - детектор на расстоянии 1.0 метр от мишени')\n",
        "plt.xlabel('Количество гамма-квантов вышедших из мишени')\n",
        "plt.ylabel('Доза облучения (Грей)')\n",
        "plt.tight_layout()\n",
        "plt.grid()\n",
        "plt.show()\n",
        "\n",
        "# 1.6 * 10^(-10) - время, 1043068 - кол-во квантов на выходе - 0.0274 грей за секунду - 300 кэВ\n",
        "# 1.6 * 10^(-10) - время, 509633 - кол-во квантов на выходе - 0.0134 грей за секунду - 250 кэВ"
      ]
    },
    {
      "cell_type": "markdown",
      "metadata": {
        "id": "6IoL20XcY4XX"
      },
      "source": [
        "## Поверность координат детектирования частиц"
      ]
    },
    {
      "cell_type": "markdown",
      "metadata": {
        "id": "U7X2WgorafKa"
      },
      "source": [
        "Генерируется цилиндрический слой частиц с заданной энергией падающий на мишень по нормали"
      ]
    },
    {
      "cell_type": "markdown",
      "metadata": {
        "id": "4e1YAOVva4Zw"
      },
      "source": [
        "250 кэВ"
      ]
    },
    {
      "cell_type": "code",
      "execution_count": null,
      "metadata": {},
      "outputs": [],
      "source": [
        "tmp = kev250[kev250['volumeName'] == 'ScoringVolume']\n",
        "tmp = tmp.reset_index(drop=True)\n",
        "tmp['x'] = tmp['x'] // 1\n",
        "tmp['y'] = tmp['y'] // 1\n",
        "tmp['z'] = tmp['z'] // 1\n",
        "tmp = tmp[['x', 'y', 'z', 'kinEn']]\n",
        "tmp"
      ]
    },
    {
      "cell_type": "code",
      "execution_count": null,
      "metadata": {},
      "outputs": [],
      "source": [
        "import pandas as pd\n",
        "import seaborn as sns\n",
        "import matplotlib.pyplot as plt\n",
        "\n",
        "# Assuming your DataFrame is named 'tmp'\n",
        "# Step 1: Sum kinEn over each x, y pair\n",
        "result = tmp.groupby(['y', 'z'])['kinEn'].sum().reset_index()\n",
        "\n",
        "# Step 2: Pivot the data to create a 2D grid for the heatmap\n",
        "heatmap_data = result.pivot(index='z', columns='y', values='kinEn')\n",
        "\n",
        "# Step 3: Create the heatmap\n",
        "plt.figure(figsize=(10, 8))\n",
        "sns.heatmap(heatmap_data, cmap='viridis', annot=False, cbar_kws={'label': 'Sum of kinEn'})\n",
        "plt.title('Heatmap of Summed kinEn over x and y')\n",
        "plt.xlabel('x')\n",
        "plt.ylabel('y')\n",
        "plt.show()"
      ]
    },
    {
      "cell_type": "code",
      "execution_count": null,
      "metadata": {},
      "outputs": [],
      "source": [
        "import pandas as pd\n",
        "import seaborn as sns\n",
        "import matplotlib.pyplot as plt\n",
        "\n",
        "# Assuming your DataFrame is named 'tmp'\n",
        "# Step 1: Sum kinEn over each x, y pair\n",
        "result = tmp.groupby(['x', 'z'])['kinEn'].sum().reset_index()\n",
        "\n",
        "# Step 2: Pivot the data to create a 2D grid for the heatmap\n",
        "heatmap_data = result.pivot(index='z', columns='x', values='kinEn')\n",
        "\n",
        "# Step 3: Create the heatmap\n",
        "plt.figure(figsize=(10, 8))\n",
        "sns.heatmap(heatmap_data, cmap='viridis', annot=False, cbar_kws={'label': 'Sum of kinEn'})\n",
        "plt.title('Heatmap of Summed kinEn over x and y')\n",
        "plt.xlabel('x')\n",
        "plt.ylabel('y')\n",
        "plt.show()"
      ]
    },
    {
      "cell_type": "code",
      "execution_count": null,
      "metadata": {},
      "outputs": [],
      "source": [
        "import pandas as pd\n",
        "import seaborn as sns\n",
        "import matplotlib.pyplot as plt\n",
        "\n",
        "# Assuming your DataFrame is named 'tmp'\n",
        "# Step 1: Sum kinEn over each x, y pair\n",
        "result = tmp.groupby(['x', 'y'])['kinEn'].sum().reset_index()\n",
        "\n",
        "# Step 2: Pivot the data to create a 2D grid for the heatmap\n",
        "heatmap_data = result.pivot(index='y', columns='x', values='kinEn')\n",
        "\n",
        "# Step 3: Create the heatmap\n",
        "plt.figure(figsize=(10, 8))\n",
        "sns.heatmap(heatmap_data, cmap='viridis', annot=False, cbar_kws={'label': 'Sum of kinEn'})\n",
        "plt.title('Heatmap of Summed kinEn over x and y')\n",
        "plt.xlabel('x')\n",
        "plt.ylabel('y')\n",
        "plt.show()"
      ]
    },
    {
      "cell_type": "code",
      "execution_count": null,
      "metadata": {
        "colab": {
          "base_uri": "https://localhost:8080/",
          "height": 428
        },
        "id": "8IwO7GYxYu-D",
        "outputId": "c359c5c9-2bd8-4e36-a4e3-8d0c471da30a"
      },
      "outputs": [],
      "source": [
        "fig = plt.figure(figsize=(5, 5))\n",
        "ax = fig.add_subplot(projection='3d')\n",
        "ax.scatter(kev250['x'], kev250['y'], kev250['z'])\n",
        "ax.set_xlabel('X')\n",
        "ax.set_ylabel('Y')\n",
        "ax.set_zlabel('Z')\n",
        "ax.set_title(\"250 кэВ\")\n",
        "ax.view_init(elev=0, azim=45, roll=0)\n",
        "plt.tight_layout()\n",
        "plt.show()"
      ]
    },
    {
      "cell_type": "markdown",
      "metadata": {
        "id": "x8i6yafPfETh"
      },
      "source": [
        "300 кэВ"
      ]
    },
    {
      "cell_type": "code",
      "execution_count": null,
      "metadata": {
        "colab": {
          "base_uri": "https://localhost:8080/",
          "height": 428
        },
        "id": "3-BRigWqfAJE",
        "outputId": "47ea2adc-dab6-44fa-8664-a5d24f124b41"
      },
      "outputs": [],
      "source": [
        "fig = plt.figure(figsize=(5, 5))\n",
        "ax = fig.add_subplot(projection='3d')\n",
        "ax.scatter(kev300['x'], kev300['y'], kev300['z'])\n",
        "ax.set_xlabel('X')\n",
        "ax.set_ylabel('Y')\n",
        "ax.set_zlabel('Z')\n",
        "ax.set_title(\"300 кэВ\")\n",
        "ax.view_init(elev=0, azim=45, roll=0)\n",
        "plt.tight_layout()\n",
        "plt.show()"
      ]
    },
    {
      "cell_type": "markdown",
      "metadata": {},
      "source": [
        "## Определение вида пятна генерируемого излучения"
      ]
    },
    {
      "cell_type": "markdown",
      "metadata": {},
      "source": [
        "### Энергия частиц 300 кэВ"
      ]
    },
    {
      "cell_type": "markdown",
      "metadata": {},
      "source": [
        "Детектор на расстоянии 1м"
      ]
    },
    {
      "cell_type": "code",
      "execution_count": null,
      "metadata": {},
      "outputs": [],
      "source": [
        "import numpy as np\n",
        "import matplotlib.pyplot as plt\n",
        "import seaborn as sns\n",
        "from sklearn.covariance import MinCovDet\n",
        "from matplotlib.patches import Ellipse\n",
        "\n",
        "def detect_elliptical_boundary(kev300_2, granularity=50, shape_tolerance=2.0, title=None):\n",
        "    # Data preparation\n",
        "    kev300_2['x_trunc'] = (kev300_2['x'] // granularity).round() * granularity\n",
        "    kev300_2['y_trunc'] = (kev300_2['y'] // granularity).round() * granularity\n",
        "    heatmap = kev300_2.pivot_table(index='y_trunc', columns='x_trunc', \n",
        "                                 values='kinEn', aggfunc='sum').fillna(0)\n",
        "    \n",
        "    # Calculate top4 mean threshold\n",
        "    flat_values = heatmap.values.flatten()\n",
        "    flat_values = flat_values[~np.isnan(flat_values)]\n",
        "    top4_values = np.sort(flat_values)[-4:]\n",
        "    top4_mean = np.mean(top4_values)\n",
        "    threshold = top4_mean / np.e  # 1/e of top4 mean\n",
        "    \n",
        "    # Create initial mask\n",
        "    mask = heatmap.values >= threshold\n",
        "    \n",
        "    # Robust ellipse fitting using minimum covariance determinant\n",
        "    points = np.argwhere(mask)\n",
        "    if len(points) < 10:\n",
        "        raise ValueError(\"Not enough points for ellipse detection\")\n",
        "    \n",
        "    robust_cov = MinCovDet().fit(points)\n",
        "    center = robust_cov.location_\n",
        "    cov_matrix = robust_cov.covariance_\n",
        "    \n",
        "    # Calculate ellipse parameters\n",
        "    vals, vecs = np.linalg.eigh(cov_matrix)\n",
        "    order = vals.argsort()[::-1]\n",
        "    vals, vecs = vals[order], vecs[:, order]\n",
        "    theta = np.degrees(np.arctan2(*vecs[:, 0]))\n",
        "    width, height = 2 * shape_tolerance * np.sqrt(vals)\n",
        "    \n",
        "    # Calculate and print semi-axes (half-width and half-height)\n",
        "    semi_width = width / 2 * granularity\n",
        "    semi_height = height / 2 * granularity\n",
        "    print(f'Полуширина эллипса: {semi_width:.2f} мм')\n",
        "    print(f'Полудлина эллипса: {semi_height:.2f} мм')\n",
        "    \n",
        "    # Create visualization\n",
        "    plt.figure(figsize=(16, 9))\n",
        "    plt.title(f'{title}')\n",
        "    ax = sns.heatmap(heatmap, cmap='icefire')\n",
        "    \n",
        "    # Plot boundary points first\n",
        "    boundary_y, boundary_x = np.where(mask)\n",
        "    ax.scatter(boundary_x, boundary_y, s=15, \n",
        "              color='white', edgecolor='black', \n",
        "              linewidth=0.3, alpha=0.6, zorder=1,\n",
        "              label=f'1/e Threshold')\n",
        "    \n",
        "    # Draw fitted ellipse on top\n",
        "    ell = Ellipse(xy=(center[1], center[0]),\n",
        "                  width=width, height=height,\n",
        "                  angle=theta, \n",
        "                  fill=False, color='red', \n",
        "                  linewidth=2.5, zorder=2,\n",
        "                  label='Ellipse Fit')\n",
        "\n",
        "    ax.add_patch(ell)\n",
        "    \n",
        "    plt.ylabel('Y (mm)')\n",
        "    plt.xlabel('X (mm)')\n",
        "    plt.legend()\n",
        "    plt.tight_layout()\n",
        "    return plt\n",
        "\n",
        "plot = detect_elliptical_boundary(kev300_2, \n",
        "                                  shape_tolerance=2, \n",
        "                                  title='Тепловая карта суммарной энергии в детекторе (1 м от мишени) - 300 кэВ')\n",
        "plot.show()"
      ]
    },
    {
      "cell_type": "code",
      "execution_count": null,
      "metadata": {},
      "outputs": [],
      "source": [
        "query = (np.abs(kev300_2['x']) < 800) & (np.abs(kev300_2['y']) < 800)\n",
        "plot = detect_elliptical_boundary(kev300_2[query], \n",
        "                                  shape_tolerance=2, \n",
        "                                  title = 'Тепловая карта суммарной энергии в детекторе (1 м от мишени) - 300 кэВ')\n",
        "plot.show()"
      ]
    },
    {
      "cell_type": "markdown",
      "metadata": {},
      "source": [
        "Детектор на расстоянии 0.7м"
      ]
    },
    {
      "cell_type": "code",
      "execution_count": null,
      "metadata": {},
      "outputs": [],
      "source": [
        "plot = detect_elliptical_boundary(kev300_1, \n",
        "                                  shape_tolerance=2, \n",
        "                                  title = 'Тепловая карта суммарной энергии в детекторе (0.7 м от мишени) - 300 кэВ')\n",
        "plot.show()"
      ]
    },
    {
      "cell_type": "code",
      "execution_count": null,
      "metadata": {},
      "outputs": [],
      "source": [
        "query = (np.abs(kev300_1['x']) < 800) & (np.abs(kev300_1['y']) < 800)\n",
        "plot = detect_elliptical_boundary(kev300_1[query], \n",
        "                                  shape_tolerance=2, \n",
        "                                  title = 'Тепловая карта суммарной энергии в детекторе (0.7 м от мишени) - 300 кэВ')\n",
        "plot.show()"
      ]
    },
    {
      "cell_type": "markdown",
      "metadata": {},
      "source": [
        "## 250 кэВ"
      ]
    },
    {
      "cell_type": "markdown",
      "metadata": {},
      "source": [
        "Детектор на расстоянии 1м"
      ]
    },
    {
      "cell_type": "code",
      "execution_count": null,
      "metadata": {},
      "outputs": [],
      "source": [
        "plot = detect_elliptical_boundary(kev250_2, \n",
        "                                  shape_tolerance=2, \n",
        "                                  title = 'Тепловая карта суммарной энергии в детекторе (1 м от мишени) - 250 кэВ')\n",
        "plot.show()"
      ]
    },
    {
      "cell_type": "code",
      "execution_count": null,
      "metadata": {},
      "outputs": [],
      "source": [
        "query = (np.abs(kev250_2['x']) < 800) & (np.abs(kev250_2['y']) < 800)\n",
        "plot = detect_elliptical_boundary(kev250_2[query], \n",
        "                                  shape_tolerance=2, \n",
        "                                  title = 'Тепловая карта суммарной энергии в детекторе (1 м от мишени) - 250 кэВ')\n",
        "plot.show()"
      ]
    },
    {
      "cell_type": "code",
      "execution_count": null,
      "metadata": {},
      "outputs": [],
      "source": [
        "plot = detect_elliptical_boundary(kev250_1, \n",
        "                                  shape_tolerance=2, \n",
        "                                  title = 'Тепловая карта суммарной энергии в детекторе (0.7 м от мишени) - 250 кэВ')\n",
        "plot.show()"
      ]
    },
    {
      "cell_type": "code",
      "execution_count": null,
      "metadata": {},
      "outputs": [],
      "source": [
        "query = (np.abs(kev250_1['x']) < 800) & (np.abs(kev250_1['y']) < 800)\n",
        "plot = detect_elliptical_boundary(kev250_1[query], \n",
        "                                  shape_tolerance=2, \n",
        "                                  title = 'Тепловая карта суммарной энергии в детекторе (0.7 м от мишени) - 250 кэВ')\n",
        "plot.show()"
      ]
    },
    {
      "cell_type": "markdown",
      "metadata": {
        "id": "sn0Ja69rgbZK"
      },
      "source": [
        "Разрежем сферу параллелепипедом вдось x = 15, x = -15, тем самым выделив частицы для исследования углового распределения по энергиям"
      ]
    },
    {
      "cell_type": "code",
      "execution_count": null,
      "metadata": {
        "id": "tLBHoKN5gAX4"
      },
      "outputs": [],
      "source": [
        "kev300 = kev300_0[(kev300_0['x'] > -15) & (kev300_0['x'] < 15)].drop(columns='volumeName')\n",
        "kev250 = kev250_0[(kev250_0['x'] > -15) & (kev250_0['x'] < 15)].drop(columns='volumeName')"
      ]
    },
    {
      "cell_type": "markdown",
      "metadata": {
        "id": "HAgHRE51kiYT"
      },
      "source": [
        "Распределение энергии излучаемых частиц"
      ]
    },
    {
      "cell_type": "code",
      "execution_count": null,
      "metadata": {
        "colab": {
          "base_uri": "https://localhost:8080/",
          "height": 472
        },
        "id": "txSGFuvyjH_X",
        "outputId": "025a4cdb-169c-4d62-b26e-32283c0f5d0e"
      },
      "outputs": [],
      "source": [
        "fig = plt.figure(figsize=(16, 9))\n",
        "ax = fig.add_subplot()\n",
        "sns.histplot(data = kev300, x = 'kinEn', bins = 32, stat = 'density')\n",
        "ax.set_title(\"300 кэВ Гистограмма энергий гамма-квантов - детектор на выходе из мишени\")\n",
        "ax.set_xlabel('Энергия, кэВ')\n",
        "ax.set_ylabel('Плотность')\n",
        "plt.grid()\n",
        "plt.show()"
      ]
    },
    {
      "cell_type": "code",
      "execution_count": null,
      "metadata": {
        "colab": {
          "base_uri": "https://localhost:8080/",
          "height": 472
        },
        "id": "6WAvlxJilBGF",
        "outputId": "348bd309-4b82-4a42-95f5-5c3c640b714e"
      },
      "outputs": [],
      "source": [
        "fig = plt.figure(figsize=(16, 9))\n",
        "ax = fig.add_subplot()\n",
        "sns.histplot(data = kev250, x = 'kinEn', bins = 32, stat = 'density')\n",
        "ax.set_title(\"250 кэВ Гистограмма энергий гамма-квантов - детектор на выходе из мишени\")\n",
        "ax.set_xlabel('Энергия, кэВ')\n",
        "ax.set_ylabel('Плотность')\n",
        "plt.grid()\n",
        "plt.show()"
      ]
    },
    {
      "cell_type": "markdown",
      "metadata": {
        "id": "0JPWJ97CnKfZ"
      },
      "source": [
        "Построим относительную диаграмму направленности"
      ]
    },
    {
      "cell_type": "code",
      "execution_count": null,
      "metadata": {
        "colab": {
          "base_uri": "https://localhost:8080/",
          "height": 472
        },
        "id": "HZvkzWXVouYQ",
        "outputId": "de263736-36f1-4072-b087-8686cf07d7ec"
      },
      "outputs": [],
      "source": [
        "theta = np.arctan(kev300['y'] / kev300['z']) * 180 / np.pi\n",
        "fig = plt.figure(figsize=(16,9))\n",
        "ax = fig.add_subplot()\n",
        "sns.histplot(x = theta, bins = 32, stat = 'density')\n",
        "ax.set_title(\"300 кэВ Распределение частиц по углам - детектор на выходе из мишени\")\n",
        "ax.set_xlabel('Угол, гр.')\n",
        "ax.set_ylabel('Плотность')\n",
        "plt.grid()\n",
        "plt.show()"
      ]
    },
    {
      "cell_type": "code",
      "execution_count": null,
      "metadata": {
        "colab": {
          "base_uri": "https://localhost:8080/",
          "height": 472
        },
        "id": "l1EsC9oB9Hp2",
        "outputId": "b0a1c8e8-0681-4bfd-843c-873f7dc12833"
      },
      "outputs": [],
      "source": [
        "theta = np.arctan(kev250['y'] / kev250['z']) * 180 / np.pi\n",
        "fig = plt.figure(figsize=(16, 9))\n",
        "ax = fig.add_subplot()\n",
        "sns.histplot(x = theta, bins = 32, stat = 'density')\n",
        "ax.set_title(\"250 кэВ Распределение частиц по углам - детектор на выходе из мишени\")\n",
        "ax.set_xlabel('Угол, гр.')\n",
        "ax.set_ylabel('Плотность')\n",
        "plt.grid()\n",
        "plt.show()"
      ]
    },
    {
      "cell_type": "code",
      "execution_count": null,
      "metadata": {
        "colab": {
          "base_uri": "https://localhost:8080/",
          "height": 501
        },
        "id": "bAXwNMFy9QE7",
        "outputId": "c5fbad18-f829-47f8-869c-3406f26e72a9"
      },
      "outputs": [],
      "source": [
        "kev300_ang = kev300.copy()\n",
        "kev300_ang['theta'] = np.round(np.arctan(kev300_ang['y'] / kev300_ang['z']) * 180 / np.pi, 0)\n",
        "kev300_ang = kev300_ang.drop('x', axis=1)\n",
        "kev300_ang = kev300_ang.drop('y', axis=1)\n",
        "kev300_ang = kev300_ang.drop('z', axis=1)\n",
        "kev300_ang = kev300_ang.drop('trackNum', axis=1)\n",
        "kev300_ang = kev300_ang.drop('particleName', axis=1)\n",
        "kev300_ang = kev300_ang.drop('IsFirstStepInVolume', axis=1)\n",
        "kev300_ang = kev300_ang.groupby(by = 'theta').mean()\n",
        "kev300_ang = kev300_ang.reset_index()\n",
        "\n",
        "fig = plt.figure(figsize=(5,5))\n",
        "ax = fig.add_subplot(projection='polar')\n",
        "ax.plot(kev300_ang['theta'] * np.pi / 180, kev300_ang['kinEn'])\n",
        "ax.set_xlabel('Зависимость средней энергии (кэВ) от угла (гр.)')\n",
        "ax.set_title(\"300 кэВ\")\n",
        "ax.set_theta_zero_location('W', offset=-90)\n",
        "plt.tight_layout()\n",
        "plt.show()"
      ]
    },
    {
      "cell_type": "code",
      "execution_count": null,
      "metadata": {
        "colab": {
          "base_uri": "https://localhost:8080/",
          "height": 501
        },
        "id": "H3TiT5il1BK8",
        "outputId": "a879753f-f628-4639-bf09-c9ea8a0997e9"
      },
      "outputs": [],
      "source": [
        "kev250_ang = kev250.copy()\n",
        "kev250_ang['theta'] = np.round(np.arctan(kev250_ang['y'] / kev250_ang['z']) * 180 / np.pi,  0)\n",
        "kev250_ang = kev250_ang.drop('x', axis=1)\n",
        "kev250_ang = kev250_ang.drop('y', axis=1)\n",
        "kev250_ang = kev250_ang.drop('z', axis=1)\n",
        "kev250_ang = kev250_ang.drop('trackNum', axis=1)\n",
        "kev250_ang = kev250_ang.drop('particleName', axis=1)\n",
        "kev250_ang = kev250_ang.drop('IsFirstStepInVolume', axis=1)\n",
        "kev250_ang = kev250_ang.groupby(by = 'theta').mean()\n",
        "kev250_ang = kev250_ang.reset_index()\n",
        "\n",
        "fig = plt.figure(figsize=(5,5))\n",
        "ax = fig.add_subplot(projection='polar')\n",
        "ax.plot(kev250_ang['theta'] * np.pi / 180, kev250_ang['kinEn'])\n",
        "ax.set_xlabel('Зависимость средней энергии (кэВ) от угла (гр.)')\n",
        "ax.set_title(\"250 кэВ\")\n",
        "ax.set_theta_zero_location('W', offset=-90)\n",
        "plt.show()"
      ]
    },
    {
      "cell_type": "code",
      "execution_count": null,
      "metadata": {
        "colab": {
          "base_uri": "https://localhost:8080/",
          "height": 501
        },
        "id": "Gppey3w6B57A",
        "outputId": "89ee12be-3769-4c0b-9518-832e1ae031bd"
      },
      "outputs": [],
      "source": [
        "kev300_ang = kev300.copy()\n",
        "kev300_ang['theta'] = np.round(np.arctan(kev300_ang['y'] / kev300_ang['z']) * 180 / np.pi / 4) * 4\n",
        "kev300_ang = kev300_ang.drop('x', axis=1)\n",
        "kev300_ang = kev300_ang.drop('y', axis=1)\n",
        "kev300_ang = kev300_ang.drop('z', axis=1)\n",
        "kev300_ang = kev300_ang.drop('trackNum', axis=1)\n",
        "kev300_ang = kev300_ang.drop('particleName', axis=1)\n",
        "kev300_ang = kev300_ang.drop('IsFirstStepInVolume', axis=1)\n",
        "kev300_ang = kev300_ang.groupby(by = 'theta').mean()\n",
        "kev300_ang = kev300_ang.reset_index()\n",
        "\n",
        "fig = plt.figure(figsize=(5,5))\n",
        "ax = fig.add_subplot(projection='polar')\n",
        "ax.plot(kev300_ang['theta'] * np.pi / 180, kev300_ang['kinEn'])\n",
        "ax.set_xlabel('Зависимость средней энергии (кэВ) от угла (гр.)')\n",
        "ax.set_title(\"300 кэВ\")\n",
        "ax.set_theta_zero_location('W', offset=-90)\n",
        "plt.show()"
      ]
    },
    {
      "cell_type": "code",
      "execution_count": null,
      "metadata": {
        "colab": {
          "base_uri": "https://localhost:8080/",
          "height": 501
        },
        "id": "UPsvTQzvDtJc",
        "outputId": "d3fe9647-3a10-4f19-f1c2-0cc614c51786"
      },
      "outputs": [],
      "source": [
        "kev250_ang = kev250.copy()\n",
        "kev250_ang['theta'] = np.round(np.arctan(kev250_ang['y'] / kev250_ang['z']) * 180 / np.pi / 4) * 4\n",
        "kev250_ang = kev250_ang.drop('x', axis=1)\n",
        "kev250_ang = kev250_ang.drop('y', axis=1)\n",
        "kev250_ang = kev250_ang.drop('z', axis=1)\n",
        "kev250_ang = kev250_ang.drop('trackNum', axis=1)\n",
        "kev250_ang = kev250_ang.drop('particleName', axis=1)\n",
        "kev250_ang = kev250_ang.drop('IsFirstStepInVolume', axis=1)\n",
        "kev250_ang = kev250_ang.groupby(by = 'theta').mean()\n",
        "kev250_ang = kev250_ang.reset_index()\n",
        "\n",
        "fig = plt.figure(figsize=(5,5))\n",
        "ax = fig.add_subplot(projection='polar')\n",
        "ax.plot(kev250_ang['theta'] * np.pi / 180, kev250_ang['kinEn'])\n",
        "ax.set_xlabel('Зависимость средней энергии (кэВ) от угла (гр.)')\n",
        "ax.set_title(\"250 кэВ\")\n",
        "ax.set_theta_zero_location('W', offset=-90)\n",
        "plt.show()"
      ]
    }
  ],
  "metadata": {
    "colab": {
      "authorship_tag": "ABX9TyOS6P76CQnE2WEWx+bG5HEP",
      "include_colab_link": true,
      "provenance": []
    },
    "kernelspec": {
      "display_name": "Python 3",
      "name": "python3"
    },
    "language_info": {
      "codemirror_mode": {
        "name": "ipython",
        "version": 3
      },
      "file_extension": ".py",
      "mimetype": "text/x-python",
      "name": "python",
      "nbconvert_exporter": "python",
      "pygments_lexer": "ipython3",
      "version": "3.13.2"
    }
  },
  "nbformat": 4,
  "nbformat_minor": 0
}
